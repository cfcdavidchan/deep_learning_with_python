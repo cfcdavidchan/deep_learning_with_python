{
 "cells": [
  {
   "cell_type": "markdown",
   "metadata": {},
   "source": [
    "# Importing dataset"
   ]
  },
  {
   "cell_type": "code",
   "execution_count": 1,
   "metadata": {},
   "outputs": [
    {
     "name": "stderr",
     "output_type": "stream",
     "text": [
      "Using TensorFlow backend.\n"
     ]
    }
   ],
   "source": [
    "from keras.datasets import imdb\n",
    "\n",
    "(train_data, train_labels), (test_data, test_labels) = imdb.load_data(num_words=10000)"
   ]
  },
  {
   "cell_type": "markdown",
   "metadata": {},
   "source": [
    "# Data exposure"
   ]
  },
  {
   "cell_type": "code",
   "execution_count": 2,
   "metadata": {},
   "outputs": [
    {
     "name": "stdout",
     "output_type": "stream",
     "text": [
      "train_data sample:\n",
      "[1, 14, 22, 16, 43, 530, 973, 1622, 1385, 65, 458, 4468, 66, 3941, 4, 173, 36, 256, 5, 25, 100, 43, 838, 112, 50, 670, 2, 9, 35, 480, 284, 5, 150, 4, 172, 112, 167, 2, 336, 385, 39, 4, 172, 4536, 1111, 17, 546, 38, 13, 447, 4, 192, 50, 16, 6, 147, 2025, 19, 14, 22, 4, 1920, 4613, 469, 4, 22, 71, 87, 12, 16, 43, 530, 38, 76, 15, 13, 1247, 4, 22, 17, 515, 17, 12, 16, 626, 18, 2, 5, 62, 386, 12, 8, 316, 8, 106, 5, 4, 2223, 5244, 16, 480, 66, 3785, 33, 4, 130, 12, 16, 38, 619, 5, 25, 124, 51, 36, 135, 48, 25, 1415, 33, 6, 22, 12, 215, 28, 77, 52, 5, 14, 407, 16, 82, 2, 8, 4, 107, 117, 5952, 15, 256, 4, 2, 7, 3766, 5, 723, 36, 71, 43, 530, 476, 26, 400, 317, 46, 7, 4, 2, 1029, 13, 104, 88, 4, 381, 15, 297, 98, 32, 2071, 56, 26, 141, 6, 194, 7486, 18, 4, 226, 22, 21, 134, 476, 26, 480, 5, 144, 30, 5535, 18, 51, 36, 28, 224, 92, 25, 104, 4, 226, 65, 16, 38, 1334, 88, 12, 16, 283, 5, 16, 4472, 113, 103, 32, 15, 16, 5345, 19, 178, 32]\n",
      "train_labels sample:\n",
      "1\n"
     ]
    }
   ],
   "source": [
    "print ('train_data sample:')\n",
    "print (train_data[0])\n",
    "print ('train_labels sample:')\n",
    "print (train_labels[0])"
   ]
  },
  {
   "cell_type": "code",
   "execution_count": 3,
   "metadata": {},
   "outputs": [
    {
     "name": "stdout",
     "output_type": "stream",
     "text": [
      "train_data shape:\n",
      "(25000,)\n",
      "train_labels shape:\n",
      "(25000,)\n",
      "test_data shape:\n",
      "(25000,)\n",
      "test_labels shape:\n",
      "(25000,)\n"
     ]
    }
   ],
   "source": [
    "print ('train_data shape:')\n",
    "print (train_data.shape)\n",
    "print ('train_labels shape:')\n",
    "print (train_labels.shape)\n",
    "print ('test_data shape:')\n",
    "print (test_data.shape)\n",
    "print ('test_labels shape:')\n",
    "print (test_labels.shape)"
   ]
  },
  {
   "cell_type": "markdown",
   "metadata": {},
   "source": [
    "### Decode the words"
   ]
  },
  {
   "cell_type": "code",
   "execution_count": 4,
   "metadata": {},
   "outputs": [
    {
     "name": "stdout",
     "output_type": "stream",
     "text": [
      "? big hair big boobs bad music and a giant safety pin these are the words to best describe this terrible movie i love cheesy horror movies and i've seen hundreds but this had got to be on of the worst ever made the plot is paper thin and ridiculous the acting is an abomination the script is completely laughable the best is the end showdown with the cop and how he worked out who the killer is it's just so damn terribly written the clothes are sickening and funny in equal ? the hair is big lots of boobs ? men wear those cut ? shirts that show off their ? sickening that men actually wore them and the music is just ? trash that plays over and over again in almost every scene there is trashy music boobs and ? taking away bodies and the gym still doesn't close for ? all joking aside this is a truly bad film whose only charm is to look back on the disaster that was the 80's and have a good old laugh at how bad everything was back then\n"
     ]
    }
   ],
   "source": [
    "word_index = imdb.get_word_index()\n",
    "reverse_word_index = dict([value, key] for (key, value) in word_index.items())\n",
    "sample_word = train_data[1]\n",
    "\n",
    "def decode_word(sample_word):\n",
    "    decode_sample_word = ' '.join([reverse_word_index.get(i - 3, '?') for i in sample_word]) \n",
    "    return decode_sample_word\n",
    "    # 0 = padding\n",
    "    # 1 = start of sequence\n",
    "    # 2 = unknown\n",
    "\n",
    "print (decode_word(sample_word))"
   ]
  },
  {
   "cell_type": "markdown",
   "metadata": {},
   "source": [
    "# Preparing Data"
   ]
  },
  {
   "cell_type": "code",
   "execution_count": 5,
   "metadata": {},
   "outputs": [],
   "source": [
    "import numpy as np\n",
    "\n",
    "def vectorize_sequences(sequences, dimension= 10000):\n",
    "    results = np.zeros((len(sequences), dimension))\n",
    "    for i, sequence in enumerate(sequences):\n",
    "        results[i, sequence] = 1\n",
    "    return results"
   ]
  },
  {
   "cell_type": "code",
   "execution_count": 6,
   "metadata": {},
   "outputs": [
    {
     "name": "stdout",
     "output_type": "stream",
     "text": [
      "train sample:\n",
      "[0. 1. 1. ... 0. 0. 0.]\n",
      "test sample:\n",
      "[0. 1. 1. ... 0. 0. 0.]\n"
     ]
    }
   ],
   "source": [
    "x_train = vectorize_sequences(train_data)\n",
    "x_test = vectorize_sequences(test_data)\n",
    "\n",
    "print ('train sample:')\n",
    "print (x_train[0])\n",
    "print ('test sample:')\n",
    "print (x_test[0])"
   ]
  },
  {
   "cell_type": "code",
   "execution_count": 7,
   "metadata": {},
   "outputs": [
    {
     "name": "stdout",
     "output_type": "stream",
     "text": [
      "train sample:\n",
      "1.0\n",
      "test sample:\n",
      "0.0\n"
     ]
    }
   ],
   "source": [
    "y_train = np.asarray(train_labels).astype('float32')\n",
    "y_test = np.asarray(test_labels).astype('float32')\n",
    "print ('train sample:')\n",
    "print (y_train[0])\n",
    "print ('test sample:')\n",
    "print (y_test[0])"
   ]
  },
  {
   "cell_type": "markdown",
   "metadata": {},
   "source": [
    "# Model Create"
   ]
  },
  {
   "cell_type": "code",
   "execution_count": 8,
   "metadata": {},
   "outputs": [
    {
     "name": "stdout",
     "output_type": "stream",
     "text": [
      "WARNING:tensorflow:From /home/david/anaconda3/envs/deep_learning/lib/python3.6/site-packages/tensorflow_core/python/ops/resource_variable_ops.py:1630: calling BaseResourceVariable.__init__ (from tensorflow.python.ops.resource_variable_ops) with constraint is deprecated and will be removed in a future version.\n",
      "Instructions for updating:\n",
      "If using Keras pass *_constraint arguments to layers.\n",
      "WARNING:tensorflow:From /home/david/anaconda3/envs/deep_learning/lib/python3.6/site-packages/tensorflow_core/python/ops/nn_impl.py:183: where (from tensorflow.python.ops.array_ops) is deprecated and will be removed in a future version.\n",
      "Instructions for updating:\n",
      "Use tf.where in 2.0, which has the same broadcast rule as np.where\n"
     ]
    }
   ],
   "source": [
    "from keras import models\n",
    "from keras import layers\n",
    "from keras import optimizers\n",
    "\n",
    "model = models.Sequential()\n",
    "model.add(layers.Dense(16, activation='relu', input_shape=(10000,)))\n",
    "model.add(layers.Dense(16, activation='relu'))\n",
    "model.add(layers.Dense(1, activation='sigmoid'))\n",
    "\n",
    "model.compile(optimizer= optimizers.RMSprop(lr= 0.001),\n",
    "              loss= 'binary_crossentropy',\n",
    "              metrics= ['accuracy'])"
   ]
  },
  {
   "cell_type": "markdown",
   "metadata": {},
   "source": [
    "# Validating appoach"
   ]
  },
  {
   "cell_type": "code",
   "execution_count": 9,
   "metadata": {},
   "outputs": [],
   "source": [
    "x_val = x_train[:10000]\n",
    "partial_x_train = x_train[10000:]\n",
    "\n",
    "y_val = y_train[:10000]\n",
    "partial_y_train = y_train[10000:]"
   ]
  },
  {
   "cell_type": "markdown",
   "metadata": {},
   "source": [
    "# Fit the model"
   ]
  },
  {
   "cell_type": "code",
   "execution_count": 10,
   "metadata": {},
   "outputs": [
    {
     "name": "stdout",
     "output_type": "stream",
     "text": [
      "WARNING:tensorflow:From /home/david/anaconda3/envs/deep_learning/lib/python3.6/site-packages/keras/backend/tensorflow_backend.py:422: The name tf.global_variables is deprecated. Please use tf.compat.v1.global_variables instead.\n",
      "\n",
      "Train on 15000 samples, validate on 10000 samples\n",
      "Epoch 1/20\n",
      "15000/15000 [==============================] - 3s 226us/step - loss: 0.5115 - accuracy: 0.7921 - val_loss: 0.3910 - val_accuracy: 0.8734\n",
      "Epoch 2/20\n",
      "15000/15000 [==============================] - 1s 66us/step - loss: 0.3089 - accuracy: 0.9050 - val_loss: 0.3089 - val_accuracy: 0.8857\n",
      "Epoch 3/20\n",
      "15000/15000 [==============================] - 1s 66us/step - loss: 0.2226 - accuracy: 0.9278 - val_loss: 0.3255 - val_accuracy: 0.8664\n",
      "Epoch 4/20\n",
      "15000/15000 [==============================] - 1s 63us/step - loss: 0.1739 - accuracy: 0.9445 - val_loss: 0.3121 - val_accuracy: 0.8750\n",
      "Epoch 5/20\n",
      "15000/15000 [==============================] - 1s 54us/step - loss: 0.1429 - accuracy: 0.9533 - val_loss: 0.2811 - val_accuracy: 0.8898\n",
      "Epoch 6/20\n",
      "15000/15000 [==============================] - 1s 58us/step - loss: 0.1164 - accuracy: 0.9649 - val_loss: 0.3022 - val_accuracy: 0.8833\n",
      "Epoch 7/20\n",
      "15000/15000 [==============================] - 1s 54us/step - loss: 0.0963 - accuracy: 0.9726 - val_loss: 0.3189 - val_accuracy: 0.8823\n",
      "Epoch 8/20\n",
      "15000/15000 [==============================] - 1s 56us/step - loss: 0.0790 - accuracy: 0.9778 - val_loss: 0.3693 - val_accuracy: 0.8739\n",
      "Epoch 9/20\n",
      "15000/15000 [==============================] - 1s 60us/step - loss: 0.0639 - accuracy: 0.9837 - val_loss: 0.3609 - val_accuracy: 0.8790\n",
      "Epoch 10/20\n",
      "15000/15000 [==============================] - 1s 55us/step - loss: 0.0545 - accuracy: 0.9858 - val_loss: 0.4095 - val_accuracy: 0.8708\n",
      "Epoch 11/20\n",
      "15000/15000 [==============================] - 1s 59us/step - loss: 0.0431 - accuracy: 0.9903 - val_loss: 0.4089 - val_accuracy: 0.8761\n",
      "Epoch 12/20\n",
      "15000/15000 [==============================] - 1s 55us/step - loss: 0.0336 - accuracy: 0.9937 - val_loss: 0.4646 - val_accuracy: 0.8696\n",
      "Epoch 13/20\n",
      "15000/15000 [==============================] - 1s 53us/step - loss: 0.0269 - accuracy: 0.9952 - val_loss: 0.4798 - val_accuracy: 0.8722\n",
      "Epoch 14/20\n",
      "15000/15000 [==============================] - 1s 54us/step - loss: 0.0226 - accuracy: 0.9957 - val_loss: 0.5046 - val_accuracy: 0.8729\n",
      "Epoch 15/20\n",
      "15000/15000 [==============================] - 1s 62us/step - loss: 0.0176 - accuracy: 0.9976 - val_loss: 0.5366 - val_accuracy: 0.8716\n",
      "Epoch 16/20\n",
      "15000/15000 [==============================] - 1s 57us/step - loss: 0.0136 - accuracy: 0.9980 - val_loss: 0.5714 - val_accuracy: 0.8716\n",
      "Epoch 17/20\n",
      "15000/15000 [==============================] - 1s 63us/step - loss: 0.0092 - accuracy: 0.9992 - val_loss: 0.7012 - val_accuracy: 0.8533\n",
      "Epoch 18/20\n",
      "15000/15000 [==============================] - 1s 54us/step - loss: 0.0094 - accuracy: 0.9990 - val_loss: 0.6359 - val_accuracy: 0.8692\n",
      "Epoch 19/20\n",
      "15000/15000 [==============================] - 1s 51us/step - loss: 0.0071 - accuracy: 0.9990 - val_loss: 0.7246 - val_accuracy: 0.8586\n",
      "Epoch 20/20\n",
      "15000/15000 [==============================] - 1s 54us/step - loss: 0.0037 - accuracy: 0.9999 - val_loss: 0.7119 - val_accuracy: 0.8649\n"
     ]
    }
   ],
   "source": [
    "history = model.fit(partial_x_train,\n",
    "                    partial_y_train,\n",
    "                    epochs= 20,\n",
    "                    batch_size=512,\n",
    "                    validation_data=(x_val, y_val))"
   ]
  },
  {
   "cell_type": "code",
   "execution_count": 11,
   "metadata": {},
   "outputs": [
    {
     "data": {
      "text/plain": [
       "{'val_loss': [0.3910465792655945,\n",
       "  0.30887838048934935,\n",
       "  0.32553385224342346,\n",
       "  0.31209598426818846,\n",
       "  0.2810703501224518,\n",
       "  0.30215612230300903,\n",
       "  0.31890133481025695,\n",
       "  0.3693142418384552,\n",
       "  0.3608984966278076,\n",
       "  0.4094558352947235,\n",
       "  0.40885965700149535,\n",
       "  0.46461765213012696,\n",
       "  0.4797836804866791,\n",
       "  0.5045887627124787,\n",
       "  0.536621912765503,\n",
       "  0.5714129912853241,\n",
       "  0.7011701006889344,\n",
       "  0.6359203424453735,\n",
       "  0.724642096233368,\n",
       "  0.7119466745376587],\n",
       " 'val_accuracy': [0.8733999729156494,\n",
       "  0.885699987411499,\n",
       "  0.8664000034332275,\n",
       "  0.875,\n",
       "  0.8898000121116638,\n",
       "  0.8833000063896179,\n",
       "  0.8823000192642212,\n",
       "  0.8738999962806702,\n",
       "  0.8790000081062317,\n",
       "  0.8708000183105469,\n",
       "  0.8761000037193298,\n",
       "  0.8695999979972839,\n",
       "  0.8722000122070312,\n",
       "  0.8729000091552734,\n",
       "  0.8715999722480774,\n",
       "  0.8715999722480774,\n",
       "  0.8532999753952026,\n",
       "  0.8691999912261963,\n",
       "  0.8586000204086304,\n",
       "  0.8648999929428101],\n",
       " 'loss': [0.5114857258001964,\n",
       "  0.30888138774236046,\n",
       "  0.2225818947394689,\n",
       "  0.17393247067928314,\n",
       "  0.14294204060236612,\n",
       "  0.11643466486136118,\n",
       "  0.09628880013624827,\n",
       "  0.07899161500930786,\n",
       "  0.06389594690799713,\n",
       "  0.05451167803208033,\n",
       "  0.043089181792736055,\n",
       "  0.03356593310435613,\n",
       "  0.026906435716152192,\n",
       "  0.022557792258262634,\n",
       "  0.017598029038806758,\n",
       "  0.013603864228228728,\n",
       "  0.0092393114844958,\n",
       "  0.00944101207231482,\n",
       "  0.007072455861171087,\n",
       "  0.003688312151655555],\n",
       " 'accuracy': [0.7920667,\n",
       "  0.905,\n",
       "  0.9278,\n",
       "  0.94446665,\n",
       "  0.9533333,\n",
       "  0.96486664,\n",
       "  0.9726,\n",
       "  0.9778,\n",
       "  0.98366666,\n",
       "  0.9858,\n",
       "  0.9902667,\n",
       "  0.99366665,\n",
       "  0.9952,\n",
       "  0.9957333,\n",
       "  0.9976,\n",
       "  0.998,\n",
       "  0.9992,\n",
       "  0.999,\n",
       "  0.999,\n",
       "  0.99986666]}"
      ]
     },
     "execution_count": 11,
     "metadata": {},
     "output_type": "execute_result"
    }
   ],
   "source": [
    "history.history"
   ]
  },
  {
   "cell_type": "code",
   "execution_count": 12,
   "metadata": {},
   "outputs": [
    {
     "data": {
      "image/png": "[encoded data removed]",
      "text/plain": [
       "<Figure size 432x288 with 1 Axes>"
      ]
     },
     "metadata": {
      "needs_background": "light"
     },
     "output_type": "display_data"
    }
   ],
   "source": [
    "import matplotlib.pyplot as plt\n",
    "\n",
    "history_dict = history.history\n",
    "loss_values = history_dict['loss']\n",
    "val_loss_values = history_dict['val_loss']\n",
    "\n",
    "epochs = range(1, len(history_dict['accuracy'])+ 1)\n",
    "\n",
    "plt.plot(epochs, loss_values, 'bo', label= 'Training loss')\n",
    "plt.plot(epochs, val_loss_values, 'b', label= 'Validation loss')\n",
    "plt.title('Training and validation loss')\n",
    "plt.xlabel('Epochs')\n",
    "plt.ylabel('Loss')\n",
    "plt.legend()\n",
    "\n",
    "plt.show()"
   ]
  },
  {
   "cell_type": "code",
   "execution_count": 13,
   "metadata": {},
   "outputs": [
    {
     "data": {
      "image/png": "[encoded data removed]",
      "text/plain": [
       "<Figure size 432x288 with 1 Axes>"
      ]
     },
     "metadata": {
      "needs_background": "light"
     },
     "output_type": "display_data"
    }
   ],
   "source": [
    "history_dict = history.history\n",
    "acc_values = history_dict['accuracy']\n",
    "val_acc_values = history_dict['val_accuracy']\n",
    "\n",
    "\n",
    "plt.plot(epochs, acc_values, 'bo', label= 'Training acc')\n",
    "plt.plot(epochs, val_acc_values, 'b', label= 'Validation acc')\n",
    "plt.title('Training and validation accuracy')\n",
    "plt.xlabel('Epochs')\n",
    "plt.ylabel('Accuracy')\n",
    "plt.legend()\n",
    "\n",
    "plt.show()"
   ]
  },
  {
   "cell_type": "markdown",
   "metadata": {},
   "source": [
    "# Retrain the model"
   ]
  },
  {
   "cell_type": "code",
   "execution_count": 14,
   "metadata": {},
   "outputs": [
    {
     "name": "stdout",
     "output_type": "stream",
     "text": [
      "Epoch 1/4\n",
      "25000/25000 [==============================] - 1s 43us/step - loss: 0.2319 - accuracy: 0.9466\n",
      "Epoch 2/4\n",
      "25000/25000 [==============================] - 1s 35us/step - loss: 0.1372 - accuracy: 0.9599\n",
      "Epoch 3/4\n",
      "25000/25000 [==============================] - 1s 35us/step - loss: 0.1072 - accuracy: 0.9680\n",
      "Epoch 4/4\n",
      "25000/25000 [==============================] - 1s 35us/step - loss: 0.0848 - accuracy: 0.9746\n",
      "25000/25000 [==============================] - 2s 72us/step\n"
     ]
    }
   ],
   "source": [
    "model.compile(optimizer= 'rmsprop',\n",
    "              loss= 'binary_crossentropy',\n",
    "              metrics= ['accuracy'])\n",
    "\n",
    "history = model.fit(x_train,\n",
    "                    y_train,\n",
    "                    epochs= 4,\n",
    "                    batch_size=512\n",
    "                   )\n",
    "\n",
    "results = model.evaluate(x_test, y_test)"
   ]
  },
  {
   "cell_type": "code",
   "execution_count": 15,
   "metadata": {},
   "outputs": [
    {
     "data": {
      "text/plain": [
       "[0.4930008775544167, 0.8595600128173828]"
      ]
     },
     "execution_count": 15,
     "metadata": {},
     "output_type": "execute_result"
    }
   ],
   "source": [
    "results"
   ]
  },
  {
   "cell_type": "code",
   "execution_count": 16,
   "metadata": {},
   "outputs": [
    {
     "name": "stdout",
     "output_type": "stream",
     "text": [
      "Model result:\n",
      "loss value:  0.4930008775544167\n",
      "accuracy value:  0.8595600128173828\n"
     ]
    }
   ],
   "source": [
    "print ('Model result:')\n",
    "print ('loss value: ', results[0])\n",
    "print ('accuracy value: ', results[1])"
   ]
  }
 ],
 "metadata": {
  "kernelspec": {
   "display_name": "Python [conda env:deep_learning] *",
   "language": "python",
   "name": "conda-env-deep_learning-py"
  },
  "language_info": {
   "codemirror_mode": {
    "name": "ipython",
    "version": 3
   },
   "file_extension": ".py",
   "mimetype": "text/x-python",
   "name": "python",
   "nbconvert_exporter": "python",
   "pygments_lexer": "ipython3",
   "version": "3.6.10"
  }
 },
 "nbformat": 4,
 "nbformat_minor": 4
}
