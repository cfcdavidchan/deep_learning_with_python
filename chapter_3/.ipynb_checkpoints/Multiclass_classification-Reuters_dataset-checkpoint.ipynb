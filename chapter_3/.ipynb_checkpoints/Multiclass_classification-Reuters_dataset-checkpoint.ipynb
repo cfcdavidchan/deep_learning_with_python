{
 "cells": [
  {
   "cell_type": "markdown",
   "metadata": {},
   "source": [
    "# Importing dataset"
   ]
  },
  {
   "cell_type": "code",
   "execution_count": 1,
   "metadata": {},
   "outputs": [
    {
     "name": "stderr",
     "output_type": "stream",
     "text": [
      "Using TensorFlow backend.\n"
     ]
    }
   ],
   "source": [
    "from keras.datasets import reuters\n",
    "(train_data, train_labels), (test_data, test_labels) = reuters.load_data(num_words=10000)"
   ]
  },
  {
   "cell_type": "markdown",
   "metadata": {},
   "source": [
    "# Data exposure"
   ]
  },
  {
   "cell_type": "code",
   "execution_count": 2,
   "metadata": {},
   "outputs": [
    {
     "name": "stdout",
     "output_type": "stream",
     "text": [
      "train_data sample:\n",
      "[1, 2, 2, 8, 43, 10, 447, 5, 25, 207, 270, 5, 3095, 111, 16, 369, 186, 90, 67, 7, 89, 5, 19, 102, 6, 19, 124, 15, 90, 67, 84, 22, 482, 26, 7, 48, 4, 49, 8, 864, 39, 209, 154, 6, 151, 6, 83, 11, 15, 22, 155, 11, 15, 7, 48, 9, 4579, 1005, 504, 6, 258, 6, 272, 11, 15, 22, 134, 44, 11, 15, 16, 8, 197, 1245, 90, 67, 52, 29, 209, 30, 32, 132, 6, 109, 15, 17, 12]\n",
      "train_labels sample:\n",
      "3\n",
      "train_data shape:\n",
      "(8982,)\n",
      "train_labels shape:\n",
      "(8982,)\n",
      "test_data shape:\n",
      "(2246,)\n",
      "test_labels shape:\n",
      "(2246,)\n"
     ]
    }
   ],
   "source": [
    "print ('train_data sample:')\n",
    "print (train_data[0])\n",
    "print ('train_labels sample:')\n",
    "print (train_labels[0])\n",
    "print ('train_data shape:')\n",
    "print (train_data.shape)\n",
    "print ('train_labels shape:')\n",
    "print (train_labels.shape)\n",
    "print ('test_data shape:')\n",
    "print (test_data.shape)\n",
    "print ('test_labels shape:')\n",
    "print (test_labels.shape)"
   ]
  },
  {
   "cell_type": "markdown",
   "metadata": {},
   "source": [
    "### Decode the words"
   ]
  },
  {
   "cell_type": "code",
   "execution_count": 3,
   "metadata": {},
   "outputs": [
    {
     "name": "stdout",
     "output_type": "stream",
     "text": [
      "? ? ? said as a result of its december acquisition of space co it expects earnings per share in 1987 of 1 15 to 1 30 dlrs per share up from 70 cts in 1986 the company said pretax net should rise to nine to 10 mln dlrs from six mln dlrs in 1986 and rental operation revenues to 19 to 22 mln dlrs from 12 5 mln dlrs it said cash flow per share this year should be 2 50 to three dlrs reuter 3\n"
     ]
    }
   ],
   "source": [
    "def decode_word(sample_word):\n",
    "    decode_sample_word = ' '.join([reverse_word_index.get(i - 3, '?') for i in sample_word]) \n",
    "    return decode_sample_word\n",
    "    # 0 = padding\n",
    "    # 1 = start of sequence\n",
    "    # 2 = unknown\n",
    "\n",
    "word_index = reuters.get_word_index()\n",
    "reverse_word_index = dict([value, key] for (key, value) in word_index.items())\n",
    "sample_word = train_data[0]\n",
    "\n",
    "print (decode_word(sample_word))"
   ]
  },
  {
   "cell_type": "markdown",
   "metadata": {},
   "source": [
    "# Preparing Data"
   ]
  },
  {
   "cell_type": "code",
   "execution_count": 4,
   "metadata": {},
   "outputs": [],
   "source": [
    "import numpy as np\n",
    "\n",
    "def vectorize_sequences(sequences, dimension= 10000):\n",
    "    results = np.zeros((len(sequences), dimension))\n",
    "    for i, sequence in enumerate(sequences):\n",
    "        results[i, sequence] = 1\n",
    "    return results"
   ]
  },
  {
   "cell_type": "code",
   "execution_count": 5,
   "metadata": {},
   "outputs": [
    {
     "name": "stdout",
     "output_type": "stream",
     "text": [
      "x_train sample:\n",
      "[0. 1. 1. ... 0. 0. 0.]\n",
      "x_test sample:\n",
      "[0. 1. 1. ... 0. 0. 0.]\n",
      "train labels sample:\n",
      "[0. 0. 0. 1. 0. 0. 0. 0. 0. 0. 0. 0. 0. 0. 0. 0. 0. 0. 0. 0. 0. 0. 0. 0.\n",
      " 0. 0. 0. 0. 0. 0. 0. 0. 0. 0. 0. 0. 0. 0. 0. 0. 0. 0. 0. 0. 0. 0.]\n",
      "test labels sample:\n",
      "[0. 0. 0. 1. 0. 0. 0. 0. 0. 0. 0. 0. 0. 0. 0. 0. 0. 0. 0. 0. 0. 0. 0. 0.\n",
      " 0. 0. 0. 0. 0. 0. 0. 0. 0. 0. 0. 0. 0. 0. 0. 0. 0. 0. 0. 0. 0. 0.]\n",
      "x_train shape:\n",
      "(8982, 10000)\n",
      "one_hot_train_labels shape:\n",
      "(8982, 46)\n",
      "x_test shape:\n",
      "(2246,)\n",
      "one_hot_test_labels shape:\n",
      "(2246, 46)\n"
     ]
    }
   ],
   "source": [
    "x_train = vectorize_sequences(train_data)\n",
    "x_test = vectorize_sequences(test_data)\n",
    "one_hot_train_labels = vectorize_sequences(train_labels, dimension= len(set(train_labels)))\n",
    "one_hot_test_labels = vectorize_sequences(test_labels, dimension= len(set(train_labels)))\n",
    "print ('x_train sample:')\n",
    "print (x_train[0])\n",
    "print ('x_test sample:')\n",
    "print (x_test[0])\n",
    "print ('train labels sample:')\n",
    "print (one_hot_train_labels[0])\n",
    "print ('test labels sample:')\n",
    "print (one_hot_test_labels[0])\n",
    "print ('x_train shape:')\n",
    "print (x_train.shape)\n",
    "print ('one_hot_train_labels shape:')\n",
    "print (one_hot_train_labels.shape)\n",
    "print ('x_test shape:')\n",
    "print (test_data.shape)\n",
    "print ('one_hot_test_labels shape:')\n",
    "print (one_hot_test_labels.shape)"
   ]
  },
  {
   "cell_type": "markdown",
   "metadata": {},
   "source": [
    "# Model Create"
   ]
  },
  {
   "cell_type": "code",
   "execution_count": 6,
   "metadata": {},
   "outputs": [
    {
     "name": "stdout",
     "output_type": "stream",
     "text": [
      "WARNING:tensorflow:From /home/david/anaconda3/envs/deep_learning/lib/python3.6/site-packages/tensorflow_core/python/ops/resource_variable_ops.py:1630: calling BaseResourceVariable.__init__ (from tensorflow.python.ops.resource_variable_ops) with constraint is deprecated and will be removed in a future version.\n",
      "Instructions for updating:\n",
      "If using Keras pass *_constraint arguments to layers.\n"
     ]
    }
   ],
   "source": [
    "from keras import models\n",
    "from keras import layers\n",
    "\n",
    "model = models.Sequential()\n",
    "model.add(layers.Dense(64, activation= 'relu', input_shape=(10000,)))\n",
    "model.add(layers.Dense(64, activation= 'relu'))\n",
    "model.add(layers.Dense(46, activation= 'softmax'))\n",
    "\n",
    "#compile the model\n",
    "model.compile(optimizer= 'rmsprop',\n",
    "              loss= 'categorical_crossentropy',\n",
    "              metrics= ['accuracy'])"
   ]
  },
  {
   "cell_type": "markdown",
   "metadata": {},
   "source": [
    "# Validating appoach"
   ]
  },
  {
   "cell_type": "code",
   "execution_count": 12,
   "metadata": {},
   "outputs": [],
   "source": [
    "x_val = x_train[:1000]\n",
    "partial_x_train = x_train[1000:]\n",
    "\n",
    "y_val = one_hot_train_labels[:1000]\n",
    "partial_y_train = one_hot_train_labels[1000:]"
   ]
  },
  {
   "cell_type": "markdown",
   "metadata": {},
   "source": [
    "# Fit the model"
   ]
  },
  {
   "cell_type": "code",
   "execution_count": 15,
   "metadata": {},
   "outputs": [
    {
     "name": "stdout",
     "output_type": "stream",
     "text": [
      "Train on 7982 samples, validate on 1000 samples\n",
      "Epoch 1/20\n",
      "7982/7982 [==============================] - 1s 89us/step - loss: 2.6175 - accuracy: 0.5063 - val_loss: 1.6899 - val_accuracy: 0.6600\n",
      "Epoch 2/20\n",
      "7982/7982 [==============================] - 0s 37us/step - loss: 1.4072 - accuracy: 0.7135 - val_loss: 1.2777 - val_accuracy: 0.7310\n",
      "Epoch 3/20\n",
      "7982/7982 [==============================] - 0s 37us/step - loss: 1.0424 - accuracy: 0.7785 - val_loss: 1.1273 - val_accuracy: 0.7710\n",
      "Epoch 4/20\n",
      "7982/7982 [==============================] - 0s 37us/step - loss: 0.8166 - accuracy: 0.8264 - val_loss: 1.0455 - val_accuracy: 0.7890\n",
      "Epoch 5/20\n",
      "7982/7982 [==============================] - 0s 37us/step - loss: 0.6500 - accuracy: 0.8662 - val_loss: 0.9655 - val_accuracy: 0.7970\n",
      "Epoch 6/20\n",
      "7982/7982 [==============================] - 0s 37us/step - loss: 0.5186 - accuracy: 0.8921 - val_loss: 0.9196 - val_accuracy: 0.8110\n",
      "Epoch 7/20\n",
      "7982/7982 [==============================] - 0s 37us/step - loss: 0.4238 - accuracy: 0.9119 - val_loss: 0.9077 - val_accuracy: 0.8090\n",
      "Epoch 8/20\n",
      "7982/7982 [==============================] - 0s 37us/step - loss: 0.3424 - accuracy: 0.9271 - val_loss: 0.8967 - val_accuracy: 0.8170\n",
      "Epoch 9/20\n",
      "7982/7982 [==============================] - 0s 37us/step - loss: 0.2818 - accuracy: 0.9377 - val_loss: 0.9091 - val_accuracy: 0.8200\n",
      "Epoch 10/20\n",
      "7982/7982 [==============================] - 0s 43us/step - loss: 0.2408 - accuracy: 0.9442 - val_loss: 0.9170 - val_accuracy: 0.8140\n",
      "Epoch 11/20\n",
      "7982/7982 [==============================] - 0s 37us/step - loss: 0.2105 - accuracy: 0.9485 - val_loss: 0.9147 - val_accuracy: 0.8150\n",
      "Epoch 12/20\n",
      "7982/7982 [==============================] - 0s 38us/step - loss: 0.1848 - accuracy: 0.9503 - val_loss: 0.9645 - val_accuracy: 0.8150\n",
      "Epoch 13/20\n",
      "7982/7982 [==============================] - 0s 41us/step - loss: 0.1620 - accuracy: 0.9535 - val_loss: 1.0123 - val_accuracy: 0.8070\n",
      "Epoch 14/20\n",
      "7982/7982 [==============================] - 0s 42us/step - loss: 0.1532 - accuracy: 0.9553 - val_loss: 0.9760 - val_accuracy: 0.8090\n",
      "Epoch 15/20\n",
      "7982/7982 [==============================] - 0s 43us/step - loss: 0.1403 - accuracy: 0.9555 - val_loss: 1.0237 - val_accuracy: 0.8060\n",
      "Epoch 16/20\n",
      "7982/7982 [==============================] - 0s 38us/step - loss: 0.1343 - accuracy: 0.9560 - val_loss: 1.0306 - val_accuracy: 0.8040\n",
      "Epoch 17/20\n",
      "7982/7982 [==============================] - 0s 39us/step - loss: 0.1266 - accuracy: 0.9572 - val_loss: 1.1084 - val_accuracy: 0.7950\n",
      "Epoch 18/20\n",
      "7982/7982 [==============================] - 0s 38us/step - loss: 0.1201 - accuracy: 0.9588 - val_loss: 1.2177 - val_accuracy: 0.7770\n",
      "Epoch 19/20\n",
      "7982/7982 [==============================] - 0s 40us/step - loss: 0.1163 - accuracy: 0.9572 - val_loss: 1.1052 - val_accuracy: 0.7980\n",
      "Epoch 20/20\n",
      "7982/7982 [==============================] - 0s 42us/step - loss: 0.1139 - accuracy: 0.9574 - val_loss: 1.1020 - val_accuracy: 0.8140\n"
     ]
    }
   ],
   "source": [
    "history = model.fit(partial_x_train,\n",
    "                    partial_y_train,\n",
    "                    epochs= 20,\n",
    "                    batch_size=512,\n",
    "                    validation_data=(x_val, y_val))"
   ]
  },
  {
   "cell_type": "code",
   "execution_count": 18,
   "metadata": {},
   "outputs": [
    {
     "data": {
      "image/png": "[encoded data removed]",
      "text/plain": [
       "<Figure size 432x288 with 1 Axes>"
      ]
     },
     "metadata": {
      "needs_background": "light"
     },
     "output_type": "display_data"
    }
   ],
   "source": [
    "import matplotlib.pyplot as plt\n",
    "\n",
    "# history_dict = history.history\n",
    "loss_values = history.history['loss']\n",
    "val_loss_values = history.history['val_loss']\n",
    "\n",
    "epochs = range(1, len(loss_values) + 1)\n",
    "\n",
    "plt.plot(epochs, loss_values, 'bo', label= 'Training loss')\n",
    "plt.plot(epochs, val_loss_values, 'b', label= 'Validation loss')\n",
    "plt.title('Training and validation loss')\n",
    "plt.xlabel('Epochs')\n",
    "plt.ylabel('Loss')\n",
    "plt.legend()\n",
    "\n",
    "plt.show()"
   ]
  },
  {
   "cell_type": "code",
   "execution_count": 19,
   "metadata": {},
   "outputs": [
    {
     "data": {
      "image/png": "[encoded data removed]",
      "text/plain": [
       "<Figure size 432x288 with 1 Axes>"
      ]
     },
     "metadata": {
      "needs_background": "light"
     },
     "output_type": "display_data"
    }
   ],
   "source": [
    "acc_values = history.history['accuracy']\n",
    "val_acc_values = history.history['val_accuracy']\n",
    "\n",
    "\n",
    "plt.plot(epochs, acc_values, 'bo', label= 'Training acc')\n",
    "plt.plot(epochs, val_acc_values, 'b', label= 'Validation acc')\n",
    "plt.title('Training and validation accuracy')\n",
    "plt.xlabel('Epochs')\n",
    "plt.ylabel('Accuracy')\n",
    "plt.legend()\n",
    "\n",
    "plt.show()"
   ]
  },
  {
   "cell_type": "markdown",
   "metadata": {},
   "source": [
    "# Retrain the model"
   ]
  },
  {
   "cell_type": "code",
   "execution_count": 26,
   "metadata": {},
   "outputs": [
    {
     "name": "stdout",
     "output_type": "stream",
     "text": [
      "Train on 7982 samples, validate on 1000 samples\n",
      "Epoch 1/9\n",
      "7982/7982 [==============================] - 0s 53us/step - loss: 2.5166 - accuracy: 0.5353 - val_loss: 1.6861 - val_accuracy: 0.6400\n",
      "Epoch 2/9\n",
      "7982/7982 [==============================] - 0s 40us/step - loss: 1.3903 - accuracy: 0.7076 - val_loss: 1.3002 - val_accuracy: 0.7120\n",
      "Epoch 3/9\n",
      "7982/7982 [==============================] - 0s 48us/step - loss: 1.0468 - accuracy: 0.7739 - val_loss: 1.1426 - val_accuracy: 0.7420\n",
      "Epoch 4/9\n",
      "7982/7982 [==============================] - 0s 44us/step - loss: 0.8281 - accuracy: 0.8237 - val_loss: 1.0262 - val_accuracy: 0.7800\n",
      "Epoch 5/9\n",
      "7982/7982 [==============================] - 0s 41us/step - loss: 0.6566 - accuracy: 0.8638 - val_loss: 0.9703 - val_accuracy: 0.8060\n",
      "Epoch 6/9\n",
      "7982/7982 [==============================] - 0s 49us/step - loss: 0.5229 - accuracy: 0.8908 - val_loss: 0.9104 - val_accuracy: 0.8100\n",
      "Epoch 7/9\n",
      "7982/7982 [==============================] - 0s 45us/step - loss: 0.4202 - accuracy: 0.9113 - val_loss: 0.8749 - val_accuracy: 0.8250\n",
      "Epoch 8/9\n",
      "7982/7982 [==============================] - 0s 48us/step - loss: 0.3426 - accuracy: 0.9285 - val_loss: 0.8631 - val_accuracy: 0.8210\n",
      "Epoch 9/9\n",
      "7982/7982 [==============================] - 0s 41us/step - loss: 0.2802 - accuracy: 0.9399 - val_loss: 0.9390 - val_accuracy: 0.8000\n",
      "2246/2246 [==============================] - 0s 69us/step\n"
     ]
    }
   ],
   "source": [
    "model = models.Sequential()\n",
    "model.add(layers.Dense(64, activation= 'relu', input_shape=(10000,)))\n",
    "model.add(layers.Dense(64, activation= 'relu'))\n",
    "model.add(layers.Dense(46, activation= 'softmax'))\n",
    "\n",
    "#compile the model\n",
    "model.compile(optimizer= 'rmsprop',\n",
    "              loss= 'categorical_crossentropy',\n",
    "              metrics= ['accuracy'])\n",
    "\n",
    "model.fit(partial_x_train,\n",
    "          partial_y_train,\n",
    "          epochs= 9,\n",
    "          batch_size=512,\n",
    "          validation_data=(x_val, y_val))\n",
    "\n",
    "results = model.evaluate(x_test, one_hot_test_labels)"
   ]
  },
  {
   "cell_type": "markdown",
   "metadata": {},
   "source": [
    "# Evaluate the model"
   ]
  },
  {
   "cell_type": "code",
   "execution_count": 30,
   "metadata": {},
   "outputs": [
    {
     "name": "stdout",
     "output_type": "stream",
     "text": [
      "Model result:\n",
      "loss value:  1.0006956298332181\n",
      "accuracy value:  0.7756010890007019\n"
     ]
    }
   ],
   "source": [
    "print ('Model result:')\n",
    "print ('loss value: ', results[0])\n",
    "print ('accuracy value: ', results[1])"
   ]
  },
  {
   "cell_type": "markdown",
   "metadata": {},
   "source": [
    "# Generating predictions on new data"
   ]
  },
  {
   "cell_type": "code",
   "execution_count": 23,
   "metadata": {},
   "outputs": [
    {
     "name": "stdout",
     "output_type": "stream",
     "text": [
      "Prediction sample result:\n",
      "(46,)\n",
      "Prediction sample probability sum up:\n",
      "1.0\n",
      "PThe highest probability of the result:\n",
      "3\n"
     ]
    }
   ],
   "source": [
    "predictions = model.predict(x_test)\n",
    "\n",
    "print ('Prediction sample result:')\n",
    "print (predictions[0].shape)\n",
    "\n",
    "print ('Prediction sample probability sum up:')\n",
    "print (np.sum(predictions[0]))\n",
    "\n",
    "print ('PThe highest probability of the result:')\n",
    "print (np.argmax(predictions[0]))"
   ]
  },
  {
   "cell_type": "markdown",
   "metadata": {},
   "source": [
    "# The importantance of having sufficiently large intermediate layers"
   ]
  },
  {
   "cell_type": "markdown",
   "metadata": {},
   "source": [
    "Lets' reduce the intermediate layers from 64 to 4"
   ]
  },
  {
   "cell_type": "code",
   "execution_count": 28,
   "metadata": {},
   "outputs": [
    {
     "name": "stdout",
     "output_type": "stream",
     "text": [
      "Train on 7982 samples, validate on 1000 samples\n",
      "Epoch 1/20\n",
      "7982/7982 [==============================] - 1s 66us/step - loss: 3.4540 - accuracy: 0.1817 - val_loss: 3.2098 - val_accuracy: 0.2670\n",
      "Epoch 2/20\n",
      "7982/7982 [==============================] - 0s 55us/step - loss: 3.0067 - accuracy: 0.2873 - val_loss: 2.8822 - val_accuracy: 0.2930\n",
      "Epoch 3/20\n",
      "7982/7982 [==============================] - 0s 51us/step - loss: 2.6705 - accuracy: 0.3096 - val_loss: 2.5959 - val_accuracy: 0.3230\n",
      "Epoch 4/20\n",
      "7982/7982 [==============================] - 0s 39us/step - loss: 2.3631 - accuracy: 0.3365 - val_loss: 2.3252 - val_accuracy: 0.3220\n",
      "Epoch 5/20\n",
      "7982/7982 [==============================] - 0s 40us/step - loss: 2.0566 - accuracy: 0.3435 - val_loss: 2.0409 - val_accuracy: 0.3320\n",
      "Epoch 6/20\n",
      "7982/7982 [==============================] - 0s 49us/step - loss: 1.7404 - accuracy: 0.4815 - val_loss: 1.7671 - val_accuracy: 0.6500\n",
      "Epoch 7/20\n",
      "7982/7982 [==============================] - 0s 37us/step - loss: 1.4608 - accuracy: 0.6829 - val_loss: 1.5515 - val_accuracy: 0.6570\n",
      "Epoch 8/20\n",
      "7982/7982 [==============================] - 0s 43us/step - loss: 1.2758 - accuracy: 0.6916 - val_loss: 1.4396 - val_accuracy: 0.6540\n",
      "Epoch 9/20\n",
      "7982/7982 [==============================] - 0s 53us/step - loss: 1.1580 - accuracy: 0.6974 - val_loss: 1.3783 - val_accuracy: 0.6630\n",
      "Epoch 10/20\n",
      "7982/7982 [==============================] - 0s 43us/step - loss: 1.0795 - accuracy: 0.7031 - val_loss: 1.3405 - val_accuracy: 0.6670\n",
      "Epoch 11/20\n",
      "7982/7982 [==============================] - 0s 44us/step - loss: 1.0138 - accuracy: 0.7248 - val_loss: 1.2978 - val_accuracy: 0.6850\n",
      "Epoch 12/20\n",
      "7982/7982 [==============================] - 0s 43us/step - loss: 0.9594 - accuracy: 0.7451 - val_loss: 1.3049 - val_accuracy: 0.6910\n",
      "Epoch 13/20\n",
      "7982/7982 [==============================] - 0s 53us/step - loss: 0.9125 - accuracy: 0.7572 - val_loss: 1.2970 - val_accuracy: 0.6910\n",
      "Epoch 14/20\n",
      "7982/7982 [==============================] - 0s 46us/step - loss: 0.8690 - accuracy: 0.7680 - val_loss: 1.2965 - val_accuracy: 0.6980\n",
      "Epoch 15/20\n",
      "7982/7982 [==============================] - 0s 43us/step - loss: 0.8321 - accuracy: 0.7801 - val_loss: 1.2944 - val_accuracy: 0.7030\n",
      "Epoch 16/20\n",
      "7982/7982 [==============================] - 0s 51us/step - loss: 0.7968 - accuracy: 0.7893 - val_loss: 1.2888 - val_accuracy: 0.7100\n",
      "Epoch 17/20\n",
      "7982/7982 [==============================] - 0s 40us/step - loss: 0.7659 - accuracy: 0.7969 - val_loss: 1.3075 - val_accuracy: 0.7110\n",
      "Epoch 18/20\n",
      "7982/7982 [==============================] - 0s 46us/step - loss: 0.7355 - accuracy: 0.8043 - val_loss: 1.2955 - val_accuracy: 0.7120\n",
      "Epoch 19/20\n",
      "7982/7982 [==============================] - 0s 55us/step - loss: 0.7089 - accuracy: 0.8135 - val_loss: 1.3250 - val_accuracy: 0.7020\n",
      "Epoch 20/20\n",
      "7982/7982 [==============================] - 0s 40us/step - loss: 0.6821 - accuracy: 0.8163 - val_loss: 1.3504 - val_accuracy: 0.7110\n",
      "{'val_loss': [3.2098050441741943, 2.882153820037842, 2.595916015625, 2.3252358417510988, 2.0409147701263426, 1.7670660181045532, 1.5515321397781372, 1.4395802431106568, 1.3782985610961913, 1.340480233192444, 1.2978042631149291, 1.3049357471466065, 1.2970499591827394, 1.2964872341156006, 1.2943868341445923, 1.2888160972595215, 1.3074622526168824, 1.2954679002761842, 1.3249570560455322, 1.3504021120071412], 'val_accuracy': [0.2669999897480011, 0.2930000126361847, 0.3230000138282776, 0.32199999690055847, 0.3319999873638153, 0.6499999761581421, 0.6570000052452087, 0.6539999842643738, 0.6629999876022339, 0.6669999957084656, 0.6850000023841858, 0.6909999847412109, 0.6909999847412109, 0.6980000138282776, 0.703000009059906, 0.7099999785423279, 0.7110000252723694, 0.7120000123977661, 0.7020000219345093, 0.7110000252723694], 'loss': [3.454047766044844, 3.006738165093376, 2.670504042033533, 2.363105574397329, 2.05664055779356, 1.7404060107787669, 1.4608259879984196, 1.2757635490543648, 1.1580157122555845, 1.079473367522337, 1.013807590370398, 0.9594028679478052, 0.9124971845788604, 0.8690152188435858, 0.8321053154544406, 0.7968058489642027, 0.7659246171216743, 0.7355093930604553, 0.7089327021040615, 0.682093935617974], 'accuracy': [0.18165873, 0.28727135, 0.30957153, 0.33650714, 0.34352294, 0.48145828, 0.6829116, 0.691556, 0.69744426, 0.7030819, 0.7247557, 0.7450514, 0.7572037, 0.76797795, 0.78013027, 0.7892759, 0.7969181, 0.8043097, 0.8134553, 0.81633675]}\n"
     ]
    }
   ],
   "source": [
    "model = models.Sequential()\n",
    "model.add(layers.Dense(64, activation= 'relu', input_shape=(10000,)))\n",
    "model.add(layers.Dense(4, activation= 'relu'))\n",
    "model.add(layers.Dense(46, activation= 'softmax'))\n",
    "\n",
    "#compile the model\n",
    "model.compile(optimizer= 'rmsprop',\n",
    "              loss= 'categorical_crossentropy',\n",
    "              metrics= ['accuracy'])\n",
    "\n",
    "history = model.fit(partial_x_train,\n",
    "                    partial_y_train,\n",
    "                    epochs= 20,\n",
    "                    batch_size=512,\n",
    "                    validation_data=(x_val, y_val))\n",
    "\n",
    "print (history.history)"
   ]
  },
  {
   "cell_type": "code",
   "execution_count": 31,
   "metadata": {},
   "outputs": [
    {
     "name": "stdout",
     "output_type": "stream",
     "text": [
      "2246/2246 [==============================] - 0s 69us/step\n",
      "Model result:\n",
      "loss value:  1.5231615968400203\n",
      "accuracy value:  0.6767587065696716\n"
     ]
    }
   ],
   "source": [
    "results = model.evaluate(x_test, one_hot_test_labels)\n",
    "print ('Model result:')\n",
    "print ('loss value: ', results[0])\n",
    "print ('accuracy value: ', results[1])"
   ]
  }
 ],
 "metadata": {
  "kernelspec": {
   "display_name": "Python [conda env:deep_learning] *",
   "language": "python",
   "name": "conda-env-deep_learning-py"
  },
  "language_info": {
   "codemirror_mode": {
    "name": "ipython",
    "version": 3
   },
   "file_extension": ".py",
   "mimetype": "text/x-python",
   "name": "python",
   "nbconvert_exporter": "python",
   "pygments_lexer": "ipython3",
   "version": "3.6.10"
  }
 },
 "nbformat": 4,
 "nbformat_minor": 4
}
